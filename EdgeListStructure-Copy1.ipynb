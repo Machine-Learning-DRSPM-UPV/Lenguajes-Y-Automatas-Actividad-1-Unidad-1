{
 "cells": [
  {
   "cell_type": "markdown",
   "id": "e67c11f4-f13a-4e5b-83c5-548c38f03e81",
   "metadata": {},
   "source": [
    "# Edge List Structure - Estructura de Lista de Aristas\n",
    "\n",
    "Realice lo siguiente:\n",
    "  * Programe la representación de grafos mediante un la **Estructura de Lista de Aristas**.\n",
    "  * Mediante networkx muestre el resultado gráfico del gráfo."
   ]
  },
  {
   "cell_type": "code",
   "execution_count": null,
   "id": "c97c7c5d-b5db-4596-8529-a3cdcf43de4f",
   "metadata": {},
   "outputs": [],
   "source": []
  }
 ],
 "metadata": {
  "kernelspec": {
   "display_name": "Python 3 (ipykernel)",
   "language": "python",
   "name": "python3"
  },
  "language_info": {
   "codemirror_mode": {
    "name": "ipython",
    "version": 3
   },
   "file_extension": ".py",
   "mimetype": "text/x-python",
   "name": "python",
   "nbconvert_exporter": "python",
   "pygments_lexer": "ipython3",
   "version": "3.8.12"
  }
 },
 "nbformat": 4,
 "nbformat_minor": 5
}
