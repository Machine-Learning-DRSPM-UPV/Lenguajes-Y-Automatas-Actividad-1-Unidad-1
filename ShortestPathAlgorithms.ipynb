{
 "cells": [
  {
   "cell_type": "markdown",
   "id": "fa50b7e7-f34b-4fd2-89f5-3bb91241ec48",
   "metadata": {},
   "source": [
    "# Algoritmos del camino más corto\n",
    "\n",
    "Realice lo siguiente:\n",
    "\n",
    "  * Programe el algoritmo de dijkstra para determinar el camino más corto de un vértice de inicio a todos los demás.\n",
    "  * Mediante networkx muestre el grafo original y el camino mas corto resultante."
   ]
  },
  {
   "cell_type": "code",
   "execution_count": null,
   "id": "6d847449-b2ab-4846-9ca9-343b8d8ccc86",
   "metadata": {},
   "outputs": [],
   "source": []
  },
  {
   "cell_type": "markdown",
   "id": "f704c7c2-cdd2-4ea0-ab0c-edf467eca56f",
   "metadata": {},
   "source": [
    "Realice lo siguiente:\n",
    "\n",
    "  * Programe el algoritmo de Bellman-End-Ford para determinar el camino más corto de un vértice de inicio a todos los demás.\n",
    "  * Mediante networkx muestre el grafo original y el camino mas corto resultante."
   ]
  },
  {
   "cell_type": "code",
   "execution_count": null,
   "id": "2e569aee-5ad9-4565-bf48-fba830bccd8b",
   "metadata": {},
   "outputs": [],
   "source": []
  },
  {
   "cell_type": "markdown",
   "id": "e982376b-b114-4eed-8d0c-d835048f22e8",
   "metadata": {},
   "source": [
    "Realice lo siguiente:\n",
    "\n",
    "  * Programe el algoritmo de Warshal-Floyd para determinar el camino más corto de un vértice de inicio a todos los demás.\n",
    "  * Mediante networkx muestre el grafo original y el camino mas corto resultante."
   ]
  },
  {
   "cell_type": "code",
   "execution_count": null,
   "id": "3b607f9c-f3b8-4a84-a60a-a4610948dd73",
   "metadata": {},
   "outputs": [],
   "source": []
  }
 ],
 "metadata": {
  "kernelspec": {
   "display_name": "Python 3 (ipykernel)",
   "language": "python",
   "name": "python3"
  },
  "language_info": {
   "codemirror_mode": {
    "name": "ipython",
    "version": 3
   },
   "file_extension": ".py",
   "mimetype": "text/x-python",
   "name": "python",
   "nbconvert_exporter": "python",
   "pygments_lexer": "ipython3",
   "version": "3.8.12"
  }
 },
 "nbformat": 4,
 "nbformat_minor": 5
}
