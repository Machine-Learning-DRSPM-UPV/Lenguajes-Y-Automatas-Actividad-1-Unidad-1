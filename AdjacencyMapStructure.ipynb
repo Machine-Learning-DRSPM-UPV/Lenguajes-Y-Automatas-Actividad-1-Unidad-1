{
 "cells": [
  {
   "cell_type": "markdown",
   "id": "0654318a-4349-4a12-a404-192061f69e8a",
   "metadata": {},
   "source": [
    "# Adjacency Map Structure - Estructura de Mapa (diccionario) de Adyacencia\n",
    "\n",
    "Realice lo siguiente:\n",
    "  * Programe la representación de grafos mediante un la **Estructura de Mapa de Adyacencia**.\n",
    "  * Mediante networkx muestre el resultado gráfico del gráfo."
   ]
  }
 ],
 "metadata": {
  "kernelspec": {
   "display_name": "Python 3 (ipykernel)",
   "language": "python",
   "name": "python3"
  },
  "language_info": {
   "codemirror_mode": {
    "name": "ipython",
    "version": 3
   },
   "file_extension": ".py",
   "mimetype": "text/x-python",
   "name": "python",
   "nbconvert_exporter": "python",
   "pygments_lexer": "ipython3",
   "version": "3.8.12"
  }
 },
 "nbformat": 4,
 "nbformat_minor": 5
}
