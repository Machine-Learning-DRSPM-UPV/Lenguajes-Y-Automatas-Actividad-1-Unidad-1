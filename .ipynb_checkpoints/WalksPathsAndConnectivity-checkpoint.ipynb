{
 "cells": [
  {
   "cell_type": "markdown",
   "id": "8fb60b63-679f-450d-a3ba-4cfb59814c61",
   "metadata": {},
   "source": [
    "# Recorridos, Caminos y Conectividad.\n",
    "\n",
    "Realice lo siguiente:\n",
    "\n",
    "  * Mediante alguna de las representaciones de grafos ponderado dirigido en computadora programe:\n",
    "    * Determine si existe un **camino** entre dos vertices dados como entrada y determine el peso del camino.\n",
    "    * Determine si existe un **recorrido** entre dos vertices dados como entrada y determine el peso del recorrido.\n",
    "    * Determine si existe un **Ciclo** dado un vértice de entrada y determine el peso del ciclo.\n",
    "    * Determine si existe un **circuito** dado un vértice de entrada y determine el peso del circuito\n",
    "    * Determine si existe un **sendero** dado un vértice de entrada y determine el peso del sendero.\n",
    "  * Mediante networkx muestre el resultado de cada uno de los puntos anteriores."
   ]
  },
  {
   "cell_type": "code",
   "execution_count": null,
   "id": "b67f6464-cdb4-4e07-a33d-2ee60fb5e799",
   "metadata": {},
   "outputs": [],
   "source": []
  }
 ],
 "metadata": {
  "kernelspec": {
   "display_name": "Python 3 (ipykernel)",
   "language": "python",
   "name": "python3"
  },
  "language_info": {
   "codemirror_mode": {
    "name": "ipython",
    "version": 3
   },
   "file_extension": ".py",
   "mimetype": "text/x-python",
   "name": "python",
   "nbconvert_exporter": "python",
   "pygments_lexer": "ipython3",
   "version": "3.8.12"
  }
 },
 "nbformat": 4,
 "nbformat_minor": 5
}
