{
 "cells": [
  {
   "cell_type": "markdown",
   "id": "03cafe87-e117-4d46-961f-9b62b7f90c90",
   "metadata": {},
   "source": [
    "# Circuitos Eurelianos\n",
    "\n",
    "Realice lo siguiente:\n",
    "\n",
    "  * Dado un grafo de entrada, se deberá responder lo siguiente:\n",
    "    * El grafo es un grafo Eureliano o un grafo no-Eureliano\n",
    "    * Determinar el circuito Eureliano\n",
    "  * Mediante networkx mostrar el grafo con su circuito Eureliano."
   ]
  },
  {
   "cell_type": "code",
   "execution_count": null,
   "id": "b6ad4a07-9500-4d72-9c7d-a4b09806acc6",
   "metadata": {},
   "outputs": [],
   "source": []
  }
 ],
 "metadata": {
  "kernelspec": {
   "display_name": "Python 3 (ipykernel)",
   "language": "python",
   "name": "python3"
  },
  "language_info": {
   "codemirror_mode": {
    "name": "ipython",
    "version": 3
   },
   "file_extension": ".py",
   "mimetype": "text/x-python",
   "name": "python",
   "nbconvert_exporter": "python",
   "pygments_lexer": "ipython3",
   "version": "3.8.12"
  }
 },
 "nbformat": 4,
 "nbformat_minor": 5
}
