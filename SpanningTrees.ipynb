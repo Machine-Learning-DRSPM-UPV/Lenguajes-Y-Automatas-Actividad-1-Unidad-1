{
 "cells": [
  {
   "cell_type": "markdown",
   "id": "570b85ef-9574-4da6-980f-3695bb89f20e",
   "metadata": {},
   "source": [
    "# Árboles de expanción mínima\n",
    "\n",
    "Dado un grafo de entrada y mediante el algoritmo de Prim (algoritmo 1) y el algoritmos 2 determine:\n",
    "\n",
    "  * El árbol de expanción mínima del grafo.\n",
    "  * Mediante el uso de Networkx muestre el grafo original y su árbol de expanción mínima.  "
   ]
  },
  {
   "cell_type": "code",
   "execution_count": null,
   "id": "59dfe5b7-da60-4188-948f-6ddda5892dbd",
   "metadata": {},
   "outputs": [],
   "source": []
  }
 ],
 "metadata": {
  "kernelspec": {
   "display_name": "Python 3 (ipykernel)",
   "language": "python",
   "name": "python3"
  },
  "language_info": {
   "codemirror_mode": {
    "name": "ipython",
    "version": 3
   },
   "file_extension": ".py",
   "mimetype": "text/x-python",
   "name": "python",
   "nbconvert_exporter": "python",
   "pygments_lexer": "ipython3",
   "version": "3.8.12"
  }
 },
 "nbformat": 4,
 "nbformat_minor": 5
}
